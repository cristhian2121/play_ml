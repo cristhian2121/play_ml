{
 "cells": [
  {
   "cell_type": "code",
   "execution_count": 2,
   "metadata": {},
   "outputs": [],
   "source": [
    "import numpy as np"
   ]
  },
  {
   "cell_type": "code",
   "execution_count": 6,
   "metadata": {},
   "outputs": [
    {
     "data": {
      "text/plain": [
       "array([8, 6])"
      ]
     },
     "execution_count": 6,
     "metadata": {},
     "output_type": "execute_result"
    }
   ],
   "source": [
    "np.array([1,2,3])\n",
    "a = np.array([5,8,9,6])\n",
    "a[:2]\n",
    "a[1::2]\n"
   ]
  },
  {
   "cell_type": "code",
   "execution_count": 21,
   "metadata": {},
   "outputs": [
    {
     "data": {
      "text/plain": [
       "2"
      ]
     },
     "execution_count": 21,
     "metadata": {},
     "output_type": "execute_result"
    }
   ],
   "source": [
    "# Dinamic array\n",
    "np.zeros(5)\n",
    "np.ones((4,5))\n",
    "type(np.ones((4,5)))\n",
    "np.linspace(2, 10, 6) # (from, to, elements)\n",
    "b = np.array([['x','y','z'],[1,2,3]])\n",
    "type(b)\n",
    "b.ndim\n"
   ]
  },
  {
   "cell_type": "code",
   "execution_count": 31,
   "metadata": {},
   "outputs": [
    {
     "data": {
      "text/plain": [
       "array([(b'sofi',  9), (b'cris', 28), (b'cami', 29)],\n",
       "      dtype=[('name', 'S10'), ('age', '<i8')])"
      ]
     },
     "execution_count": 31,
     "metadata": {},
     "output_type": "execute_result"
    }
   ],
   "source": [
    "# Orders\n",
    "head = [('name', 'S10'), ('age', int)]\n",
    "data = [ ('cris', 28),('cami', 29), ('sofi', 9)]\n",
    "users = np.array(data, dtype=head)\n",
    "np.sort(users, order='age')"
   ]
  },
  {
   "cell_type": "code",
   "execution_count": 40,
   "metadata": {},
   "outputs": [
    {
     "data": {
      "text/plain": [
       "array([[1, 0, 0],\n",
       "       [0, 5, 0],\n",
       "       [0, 0, 9]])"
      ]
     },
     "execution_count": 40,
     "metadata": {},
     "output_type": "execute_result"
    }
   ],
   "source": [
    "# Generate aleatory array\n",
    "np.arange(50)\n",
    "np.arange(10, 15, 2)\n",
    "np.full((2,8), 21)\n",
    "np.diag([1,5,9])"
   ]
  }
 ],
 "metadata": {
  "kernelspec": {
   "display_name": "Python 3.8.5  ('titanicEnv': venv)",
   "name": "pythonjvsc74a57bd03c7752703efd836f2c25ed9d83b508f732964bbd11104f0b41ed304844eafd75"
  },
  "language_info": {
   "codemirror_mode": {
    "name": "ipython",
    "version": 3
   },
   "file_extension": ".py",
   "mimetype": "text/x-python",
   "name": "python",
   "nbconvert_exporter": "python",
   "pygments_lexer": "ipython3",
   "version": "3.8.5"
  },
  "orig_nbformat": 4
 },
 "nbformat": 4,
 "nbformat_minor": 2
}