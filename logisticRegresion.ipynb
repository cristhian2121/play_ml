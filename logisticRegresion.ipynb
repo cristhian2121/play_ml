{
 "cells": [
  {
   "cell_type": "code",
   "execution_count": 59,
   "metadata": {},
   "outputs": [],
   "source": [
    "# Is a type of clasiffication to used clasification or assig label\n",
    "import numpy as np\n",
    "import pandas as pd\n",
    "from sklearn import metrics\n",
    "from sklearn.model_selection import train_test_split\n",
    "from sklearn.linear_model import LogisticRegression\n",
    "# import pip\n",
    "# pip.main(['install','seaborn'])\n",
    "import seaborn as sns\n",
    "%matplotlib inline\n",
    "import matplotlib.pyplot as plt"
   ]
  },
  {
   "cell_type": "code",
   "execution_count": 58,
   "metadata": {},
   "outputs": [
    {
     "name": "stdout",
     "output_type": "stream",
     "text": [
      "   Pregnancies  Glucose  BloodPressure  SkinThickness  Insulin   BMI  \\\n",
      "0            6      148             72             35        0  33.6   \n",
      "1            1       85             66             29        0  26.6   \n",
      "2            8      183             64              0        0  23.3   \n",
      "3            1       89             66             23       94  28.1   \n",
      "4            0      137             40             35      168  43.1   \n",
      "\n",
      "   DiabetesPedigreeFunction  Age  Outcome  \n",
      "0                     0.627   50        1  \n",
      "1                     0.351   31        0  \n",
      "2                     0.672   32        1  \n",
      "3                     0.167   21        0  \n",
      "4                     2.288   33        1  \n"
     ]
    },
    {
     "data": {
      "text/plain": [
       "(576,)"
      ]
     },
     "execution_count": 58,
     "metadata": {},
     "output_type": "execute_result"
    }
   ],
   "source": [
    "# Preparate Data\n",
    "data_pd = pd.read_csv('diabetes.csv')\n",
    "print(data_pd.head())\n",
    "feacture_cols = ['Pregnancies', 'Glucose', 'BloodPressure', 'Insulin', 'BMI', 'DiabetesPedigreeFunction', 'DiabetesPedigreeFunction', 'Age']\n",
    "x = data_pd[feacture_cols]\n",
    "y = data_pd.Outcome\n",
    "# random each time to I run my algorith this variable re calcule data to test an train\n",
    "X_train, X_test, Y_train, Y_test = train_test_split(x,y, test_size=0.25, random_state=0)\n",
    "Y_train.shape"
   ]
  },
  {
   "cell_type": "code",
   "execution_count": 68,
   "metadata": {},
   "outputs": [
    {
     "data": {
      "text/plain": [
       "0.7690972222222222"
      ]
     },
     "execution_count": 68,
     "metadata": {},
     "output_type": "execute_result"
    }
   ],
   "source": [
    "logreg = LogisticRegression(max_iter=500)\n",
    "logreg.fit(X_train, Y_train)\n",
    "y_prediction = logreg.predict(X_test)\n",
    "score = logreg.score(X_train, Y_train)\n",
    "score\n"
   ]
  },
  {
   "cell_type": "code",
   "execution_count": 69,
   "metadata": {},
   "outputs": [
    {
     "name": "stdout",
     "output_type": "stream",
     "text": [
      "% Prediction 0.8072916666666666\n"
     ]
    },
    {
     "data": {
      "image/png": "[encoded data removed]",
      "text/plain": [
       "<Figure size 432x288 with 2 Axes>"
      ]
     },
     "metadata": {
      "needs_background": "light"
     },
     "output_type": "display_data"
    }
   ],
   "source": [
    "#Evaluate Model\n",
    "# Genera confusion matrix\n",
    "cnf_matrix = metrics.confusion_matrix(Y_test, y_prediction)\n",
    "cnf_matrix\n",
    "class_names = [0, 1]\n",
    "fig, ax = plt.subplots()\n",
    "tick_mark = np.arange(len(class_names))\n",
    "plt.xticks(tick_mark, class_names)\n",
    "plt.yticks(tick_mark, class_names)\n",
    "\n",
    "# Ghrap confusion matriz\n",
    "sns.heatmap(pd.DataFrame(cnf_matrix), annot=True, cmap='Blues_r', fmt='g')\n",
    "ax.xaxis.set_label_position('top')\n",
    "plt.tight_layout()\n",
    "plt.title('Matriz de confusión', y=1.1)\n",
    "plt.ylabel('Etiqueta actual')\n",
    "plt.xlabel('Etiqueta de predicción')\n",
    "plt.tight_layout()\n",
    "\n",
    "\n",
    "print(\"% Prediction\", metrics.accuracy_score(Y_test, y_prediction))\n"
   ]
  }
 ],
 "metadata": {
  "interpreter": {
   "hash": "3c7752703efd836f2c25ed9d83b508f732964bbd11104f0b41ed304844eafd75"
  },
  "kernelspec": {
   "display_name": "Python 3.8.5 64-bit ('titanicEnv': venv)",
   "name": "python3"
  },
  "language_info": {
   "codemirror_mode": {
    "name": "ipython",
    "version": 3
   },
   "file_extension": ".py",
   "mimetype": "text/x-python",
   "name": "python",
   "nbconvert_exporter": "python",
   "pygments_lexer": "ipython3",
   "version": "3.8.5"
  },
  "orig_nbformat": 4
 },
 "nbformat": 4,
 "nbformat_minor": 2
}